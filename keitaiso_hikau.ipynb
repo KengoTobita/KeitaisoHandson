{
 "cells": [
  {
   "cell_type": "code",
   "execution_count": 8,
   "metadata": {},
   "outputs": [],
   "source": [
    "#テキストの読み込みをします。\n",
    "#中身をご確認下さい。"
   ]
  },
  {
   "cell_type": "code",
   "execution_count": 6,
   "metadata": {
    "scrolled": true
   },
   "outputs": [
    {
     "name": "stdout",
     "output_type": "stream",
     "text": [
      "人事を知る程になりしは数週の後なりき。\n",
      "熱劇しくて譫語のみ言ひしを、エリスが慇にみとる程に、\n",
      "或日相沢は尋ね来て、余がかれに隠したる顛末を審らに知りて、\n",
      "大臣には病の事のみ告げ、よきやうに繕ひ置きしなり。\n",
      "余は始めて、病牀に侍するエリスを見て、その変りたる姿に驚きぬ。\n",
      "彼はこの数週の内にいたく痩せて、血走りし目は窪み、灰色の頬ほは落ちたり。\n",
      "相沢の助にて日々の生計たつきには窮せざりしが、此恩人は彼を精神的に殺しゝなり。\n",
      "\n",
      "業績不振に陥った大塚家具の経営再建をめぐり、提携先で第３位株主の貸会議室大手、\n",
      "ティーケーピー（ＴＫＰ）が追加出資による支援を検討していることが４日、明らかになった。\n",
      "家電量販大手ヨドバシカメラも支援企業として名乗りをあげるなど複数企業と交渉しているが、\n",
      "抜本的な再建を検討しており、交渉の行方は流動的だ。\n",
      "\n",
      "キリトかなーやっぱりww \n",
      "自分は思わないんだけど周りにキリトに似てるってよく言われるwww \n",
      "こないだDQNに絡まれた時も気が付いたら意識無くて周りに人が血だらけで倒れてたしなwww\n",
      "ちなみに彼女もアスナに似てる(聞いてないw)\n",
      "\n",
      "もはや人\n",
      "人\n",
      "ひととし\n",
      "まみとし\n",
      "マミタス！！！！\n",
      "秋服もっとほしいな、マミタスさまは気にせず一年間つねにしましまボーダーぬぎませんね、\n",
      "しかし８．５キロという質量のまみりかたで、\n",
      "ボーダーのはずがおなか側面のしまがちぎれて水玉になってますフーー上級テクーーおしゃれめさるな！！！！\n",
      "\n"
     ]
    }
   ],
   "source": [
    "path = \"G:\\810LT.txt\"\n",
    "opentext = open(path,\"r\")\n",
    "text = opentext.read()\n",
    "print(text)"
   ]
  },
  {
   "cell_type": "code",
   "execution_count": 76,
   "metadata": {},
   "outputs": [],
   "source": [
    "ogai = \"D:\\ogai.txt\"\n",
    "yahoo = \"D:\\yahoo.txt\"\n",
    "ikiri = \"D:\\ikiri.txt\"\n",
    "syokotan = \"D:\\syokotan.txt\"\n",
    "\n",
    "openogai = open(ogai,\"r\")\n",
    "ogai = openogai.read()\n",
    "\n",
    "\n",
    "openyahoo = open(yahoo,\"r\")\n",
    "yahoo = openyahoo.read()\n",
    "\n",
    "openikiri = open(ikiri,\"r\")\n",
    "ikiri = openikiri.read()\n",
    "\n",
    "opensyokotan= open(syokotan,\"r\")\n",
    "syokotan = opensyokotan.read()"
   ]
  },
  {
   "cell_type": "code",
   "execution_count": null,
   "metadata": {},
   "outputs": [],
   "source": [
    "#JANOMEから\n",
    "#すごく手軽に仕事をこなせる。"
   ]
  },
  {
   "cell_type": "code",
   "execution_count": 66,
   "metadata": {},
   "outputs": [
    {
     "name": "stdout",
     "output_type": "stream",
     "text": [
      "['人事', 'を', '知る', '程', 'に', 'なり', 'し', 'は', '数', '週', 'の', '後', 'なり', 'き', '。', '\\n', '熱', '劇', 'しく', 'て', '譫語', 'のみ', '言', 'ひし', 'を', '、', 'エリス', 'が', '慇', 'に', 'みとる', '程', 'に', '、', '\\n', '或', '日', '相沢', 'は', '尋ね', '来', 'て', '、', '余', 'が', 'かれ', 'に', '隠し', 'たる', '顛末', 'を', '審', 'ら', 'に', '知り', 'て', '、', '\\n', '大臣', 'に', 'は', '病', 'の', '事', 'のみ', '告げ', '、', 'よき', 'やう', 'に', '繕', 'ひ', '置き', 'し', 'なり', '。', '\\n', '余', 'は', '始め', 'て', '、', '病牀', 'に', '侍する', 'エリス', 'を', '見', 'て', '、', 'その', '変り', 'たる', '姿', 'に', '驚き', 'ぬ', '。', '\\n', '彼', 'は', 'この', '数', '週', 'の', '内', 'に', 'いたく', '痩せ', 'て', '、', '血走り', 'し', '目', 'は', '窪み', '、', '灰色', 'の', '頬', 'ほ', 'は', '落ち', 'たり', '。', '\\n', '相沢', 'の', '助', 'にて', '日々', 'の', '生計', 'たつき', 'に', 'は', '窮', 'せ', 'ざり', 'し', 'が', '、', '此恩人', 'は', '彼', 'を', '精神', '的', 'に', '殺し', 'ゝ', 'なり', '。']\n"
     ]
    }
   ],
   "source": [
    "from janome.tokenizer import Tokenizer\n",
    "t = Tokenizer()\n",
    "tokens = t.tokenize(ogai, wakati=True)\n",
    "print(tokens)"
   ]
  },
  {
   "cell_type": "code",
   "execution_count": 67,
   "metadata": {},
   "outputs": [
    {
     "name": "stdout",
     "output_type": "stream",
     "text": [
      "['業績', '不振', 'に', '陥っ', 'た', '大塚家具', 'の', '経営', '再建', 'を', 'めぐり', '、', '提携', '先', 'で', '第', '３', '位', '株主', 'の', '貸', '会議', '室', '大手', '、', '\\n', 'ティーケーピー', '（', 'ＴＫＰ', '）', 'が', '追加', '出資', 'による', '支援', 'を', '検討', 'し', 'て', 'いる', 'こと', 'が', '４', '日', '、', '明らか', 'に', 'なっ', 'た', '。', '\\n', '家電', '量販', '大手', 'ヨドバシカメラ', 'も', '支援', '企業', 'として', '名乗り', 'を', 'あげる', 'など', '複数', '企業', 'と', '交渉', 'し', 'て', 'いる', 'が', '、', '\\n', '抜本', '的', 'な', '再建', 'を', '検討', 'し', 'て', 'おり', '、', '交渉', 'の', '行方', 'は', '流動的', 'だ', '。']\n"
     ]
    }
   ],
   "source": [
    "tokens = t.tokenize(yahoo, wakati=True)\n",
    "print(tokens)"
   ]
  },
  {
   "cell_type": "code",
   "execution_count": 75,
   "metadata": {},
   "outputs": [
    {
     "name": "stdout",
     "output_type": "stream",
     "text": [
      "['キリト', 'か', 'なー', 'やっぱり', 'ww', ' \\n', '自分', 'は', '思わ', 'ない', 'ん', 'だ', 'けど', '周り', 'に', 'キリト', 'に', '似', 'てる', 'って', 'よく', '言わ', 'れる', 'www', ' \\n', 'こないだ', 'DQN', 'に', '絡ま', 'れ', 'た', '時', 'も', '気', 'が', '付い', 'たら', '意識', '無く', 'て', '周り', 'に', '人', 'が', '血', 'だらけ', 'で', '倒れ', 'て', 'たし', 'な', 'www', '\\n', 'ちなみに', '彼女', 'も', 'アスナ', 'に', '似', 'てる', '(', '聞い', 'て', 'ない', 'w', ')']\n"
     ]
    }
   ],
   "source": [
    "tokens = t.tokenize(ikiri, wakati=True)\n",
    "print(tokens)"
   ]
  },
  {
   "cell_type": "code",
   "execution_count": 74,
   "metadata": {},
   "outputs": [
    {
     "name": "stdout",
     "output_type": "stream",
     "text": [
      "['もはや', '人', '\\n', '人', '\\n', 'ひと', 'と', 'し', '\\n', 'まみ', 'と', 'し', '\\n', 'マミタス', '！', '！', '！', '！', '\\n', '秋', '服', 'もっと', 'ほしい', 'な', '、', 'マミタス', 'さま', 'は', '気', 'に', 'せ', 'ず', '一', '年間', 'つねに', 'し', 'まし', 'ま', 'ボーダー', 'ぬぎ', 'ませ', 'ん', 'ね', '、', '\\n', 'しかし', '８', '．', '５', 'キロ', 'という', '質量', 'の', 'まみ', 'り', 'かた', 'で', '、', '\\n', 'ボーダー', 'の', 'はず', 'が', 'おなか', '側面', 'の', 'しま', 'が', 'ちぎれ', 'て', '水玉', 'に', 'なっ', 'て', 'ます', 'フーー', '上級', 'テクーー', 'おしゃれ', 'めさる', 'な', '！', '！', '！', '！']\n"
     ]
    }
   ],
   "source": [
    "tokens = t.tokenize(syokotan, wakati=True)\n",
    "print(tokens)"
   ]
  },
  {
   "cell_type": "code",
   "execution_count": null,
   "metadata": {},
   "outputs": [],
   "source": [
    "#MeCab"
   ]
  },
  {
   "cell_type": "code",
   "execution_count": null,
   "metadata": {},
   "outputs": [],
   "source": []
  },
  {
   "cell_type": "code",
   "execution_count": null,
   "metadata": {},
   "outputs": [],
   "source": [
    "#JUMAN++"
   ]
  },
  {
   "cell_type": "code",
   "execution_count": null,
   "metadata": {},
   "outputs": [],
   "source": []
  }
 ],
 "metadata": {
  "kernelspec": {
   "display_name": "Python 3",
   "language": "python",
   "name": "python3"
  },
  "language_info": {
   "codemirror_mode": {
    "name": "ipython",
    "version": 3
   },
   "file_extension": ".py",
   "mimetype": "text/x-python",
   "name": "python",
   "nbconvert_exporter": "python",
   "pygments_lexer": "ipython3",
   "version": "3.6.5"
  }
 },
 "nbformat": 4,
 "nbformat_minor": 2
}
